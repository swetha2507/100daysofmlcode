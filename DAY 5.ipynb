{
 "cells": [
  {
   "cell_type": "code",
   "execution_count": 8,
   "metadata": {},
   "outputs": [],
   "source": [
    "import pandas as pd"
   ]
  },
  {
   "cell_type": "code",
   "execution_count": 2,
   "metadata": {},
   "outputs": [
    {
     "name": "stdout",
     "output_type": "stream",
     "text": [
      "   odometer_reading  fuel_economy\n",
      "0            120000          11.0\n",
      "1            250000          11.5\n",
      "2            175000          15.8\n",
      "3            350000          17.0\n",
      "4            400000          10.0\n"
     ]
    }
   ],
   "source": [
    "df_cars = pd.DataFrame([[120000, 11], [250000, 11.5], [175000, 15.8], [350000, 17], [400000, 10]],\n",
    "                       columns=['odometer_reading', 'fuel_economy'])\n",
    "\n",
    "print(df_cars)"
   ]
  },
  {
   "cell_type": "code",
   "execution_count": 3,
   "metadata": {},
   "outputs": [
    {
     "name": "stdout",
     "output_type": "stream",
     "text": [
      "   odometer_reading  fuel_economy\n",
      "0            0.3000      0.647059\n",
      "1            0.6250      0.676471\n",
      "2            0.4375      0.929412\n",
      "3            0.8750      1.000000\n",
      "4            1.0000      0.588235\n"
     ]
    }
   ],
   "source": [
    "#maximum absolute scaling\n",
    "def maximum_absolute_scaling(df):\n",
    "    df_scaled = df.copy()\n",
    "    for column in df_scaled.columns:\n",
    "        df_scaled[column] = df_scaled[column]  / df_scaled[column].abs().max()\n",
    "    return df_scaled\n",
    "print(maximum_absolute_scaling(df_cars))\n",
    "\n"
   ]
  },
  {
   "cell_type": "code",
   "execution_count": 6,
   "metadata": {},
   "outputs": [
    {
     "name": "stdout",
     "output_type": "stream",
     "text": [
      "   odometer_reading  fuel_economy\n",
      "0            0.3000      0.647059\n",
      "1            0.6250      0.676471\n",
      "2            0.4375      0.929412\n",
      "3            0.8750      1.000000\n",
      "4            1.0000      0.588235\n"
     ]
    }
   ],
   "source": [
    "from sklearn.preprocessing import MaxAbsScaler\n",
    "abs_scaler = MaxAbsScaler()\n",
    "abs_scaler.fit(df_cars)\n",
    "abs_scaler.max_abs_\n",
    "scaled_data = abs_scaler.transform(df_cars)\n",
    "print(pd.DataFrame(scaled_data, columns=df_cars.columns))\n"
   ]
  },
  {
   "cell_type": "code",
   "execution_count": 7,
   "metadata": {},
   "outputs": [
    {
     "name": "stdout",
     "output_type": "stream",
     "text": [
      "   odometer_reading  fuel_economy\n",
      "0          0.000000      0.142857\n",
      "1          0.464286      0.214286\n",
      "2          0.196429      0.828571\n",
      "3          0.821429      1.000000\n",
      "4          1.000000      0.000000\n"
     ]
    }
   ],
   "source": [
    "#minmaxscaling \n",
    "def min_max_scaling(df):\n",
    "    df_norm = df.copy()\n",
    "    for column in df_norm.columns:\n",
    "        df_norm[column] = (df_norm[column] - df_norm[column].min()) / (df_norm[column].max() - df_norm[column].min())\n",
    "    return df_norm\n",
    "print(min_max_scaling(df_cars))"
   ]
  },
  {
   "cell_type": "code",
   "execution_count": 9,
   "metadata": {},
   "outputs": [
    {
     "name": "stdout",
     "output_type": "stream",
     "text": [
      "   odometer_reading  fuel_economy\n",
      "0          0.000000      0.142857\n",
      "1          0.464286      0.214286\n",
      "2          0.196429      0.828571\n",
      "3          0.821429      1.000000\n",
      "4          1.000000      0.000000\n"
     ]
    }
   ],
   "source": [
    "from sklearn.preprocessing import MinMaxScaler\n",
    "scaler = MinMaxScaler()\n",
    "print(pd.DataFrame(scaler.fit_transform(df_cars), columns=df_cars.columns))"
   ]
  },
  {
   "cell_type": "code",
   "execution_count": null,
   "metadata": {},
   "outputs": [],
   "source": []
  }
 ],
 "metadata": {
  "kernelspec": {
   "display_name": "Python 3",
   "language": "python",
   "name": "python3"
  },
  "language_info": {
   "codemirror_mode": {
    "name": "ipython",
    "version": 3
   },
   "file_extension": ".py",
   "mimetype": "text/x-python",
   "name": "python",
   "nbconvert_exporter": "python",
   "pygments_lexer": "ipython3",
   "version": "3.8.3"
  }
 },
 "nbformat": 4,
 "nbformat_minor": 4
}
