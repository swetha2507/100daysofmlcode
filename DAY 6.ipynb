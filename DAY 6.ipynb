{
 "cells": [
  {
   "cell_type": "code",
   "execution_count": 4,
   "metadata": {
    "scrolled": true
   },
   "outputs": [],
   "source": [
    "\n",
    "import pandas as pd\n"
   ]
  },
  {
   "cell_type": "code",
   "execution_count": 5,
   "metadata": {},
   "outputs": [
    {
     "name": "stdout",
     "output_type": "stream",
     "text": [
      "   odometer_reading  fuel_economy\n",
      "0            120000          11.0\n",
      "1            250000          11.5\n",
      "2            175000          15.8\n",
      "3            350000          17.0\n",
      "4            400000          10.0\n"
     ]
    }
   ],
   "source": [
    "df_cars = pd.DataFrame([[120000, 11], [250000, 11.5], [175000, 15.8], [350000, 17], [400000, 10]],\n",
    "                       columns=['odometer_reading', 'fuel_economy'])\n",
    "\n",
    "print(df_cars)\n",
    "\n"
   ]
  },
  {
   "cell_type": "code",
   "execution_count": 6,
   "metadata": {},
   "outputs": [
    {
     "name": "stdout",
     "output_type": "stream",
     "text": [
      "   odometer_reading  fuel_economy\n",
      "0         -1.189512     -0.659120\n",
      "1         -0.077019     -0.499139\n",
      "2         -0.718842      0.876693\n",
      "3          0.778745      1.260647\n",
      "4          1.206628     -0.979081\n"
     ]
    }
   ],
   "source": [
    "#z score method \n",
    "\n",
    "import pandas as pd \n",
    "def z_score(df):\n",
    "    df_std = df.copy()\n",
    "    for column in df_std.columns:\n",
    "        df_std[column] = (df_std[column] - df_std[column].mean()) / df_std[column].std()\n",
    "    return df_std\n",
    "print(z_score(df_cars))"
   ]
  },
  {
   "cell_type": "code",
   "execution_count": 7,
   "metadata": {},
   "outputs": [
    {
     "name": "stdout",
     "output_type": "stream",
     "text": [
      "   odometer_reading  fuel_economy\n",
      "0         -1.329915     -0.736918\n",
      "1         -0.086110     -0.558055\n",
      "2         -0.803690      0.980173\n",
      "3          0.870664      1.409446\n",
      "4          1.349051     -1.094646\n"
     ]
    }
   ],
   "source": [
    "from sklearn.preprocessing import StandardScaler\n",
    "std_scaler = StandardScaler()\n",
    "std_scaler\n",
    "print(pd.DataFrame(std_scaler.fit_transform(df_cars), columns=df_cars.columns))"
   ]
  },
  {
   "cell_type": "code",
   "execution_count": 5,
   "metadata": {},
   "outputs": [],
   "source": []
  },
  {
   "cell_type": "code",
   "execution_count": null,
   "metadata": {},
   "outputs": [],
   "source": []
  }
 ],
 "metadata": {
  "kernelspec": {
   "display_name": "Python 3",
   "language": "python",
   "name": "python3"
  },
  "language_info": {
   "codemirror_mode": {
    "name": "ipython",
    "version": 3
   },
   "file_extension": ".py",
   "mimetype": "text/x-python",
   "name": "python",
   "nbconvert_exporter": "python",
   "pygments_lexer": "ipython3",
   "version": "3.8.3"
  }
 },
 "nbformat": 4,
 "nbformat_minor": 4
}
