{
 "cells": [
  {
   "cell_type": "code",
   "execution_count": 1,
   "metadata": {},
   "outputs": [],
   "source": [
    "import numpy as np"
   ]
  },
  {
   "cell_type": "code",
   "execution_count": 8,
   "metadata": {},
   "outputs": [
    {
     "name": "stdout",
     "output_type": "stream",
     "text": [
      "[[3 4]\n",
      " [8 7]]\n",
      "(2, 2)\n",
      "[[3 8]\n",
      " [4 7]]\n",
      "[[-0.63636364  0.36363636]\n",
      " [ 0.72727273 -0.27272727]]\n",
      "-10.999999999999996\n",
      "[3 7]\n"
     ]
    }
   ],
   "source": [
    "#multidimentional arrays\n",
    "a=np.array([[3,4],[8,7]])\n",
    "print(a)\n",
    "print(a.shape)\n",
    "print(a.T)\n",
    "print(np.linalg.inv(a) )\n",
    "print(np.linalg.det(a) )\n",
    "print(np.diag(a))"
   ]
  },
  {
   "cell_type": "code",
   "execution_count": 14,
   "metadata": {},
   "outputs": [
    {
     "name": "stdout",
     "output_type": "stream",
     "text": [
      "[[5 7]\n",
      " [2 3]]\n",
      "7\n",
      "[5 7]\n",
      "[[ True  True]\n",
      " [False False]]\n"
     ]
    }
   ],
   "source": [
    "#slicing\n",
    "b=np.array([[5,7,],[2,3]])\n",
    "print(b)\n",
    "c=b[0,1]\n",
    "print(c)\n",
    "d=b[0,:]\n",
    "print(d)\n",
    "bool_index=b>=5\n",
    "print(bool_index)"
   ]
  },
  {
   "cell_type": "code",
   "execution_count": 18,
   "metadata": {},
   "outputs": [
    {
     "name": "stdout",
     "output_type": "stream",
     "text": [
      "[1 2 3 4 5 6]\n",
      "(6,)\n",
      "[[1 2 3]\n",
      " [4 5 6]]\n",
      "(6,)\n",
      "[[1]]\n",
      "(1, 1)\n"
     ]
    }
   ],
   "source": [
    "#reshaping\n",
    "e=np.arange(1,7)\n",
    "print(e)\n",
    "print(e.shape)\n",
    "print(e.reshape(2,3))\n",
    "print(e.shape)\n",
    "f=e[np.newaxis,:1]\n",
    "print(f)\n",
    "print(f.shape)"
   ]
  },
  {
   "cell_type": "code",
   "execution_count": 25,
   "metadata": {},
   "outputs": [
    {
     "name": "stdout",
     "output_type": "stream",
     "text": [
      "[[3 5]\n",
      " [2 4]]\n",
      "[[3 5 9]\n",
      " [2 4 8]]\n"
     ]
    }
   ],
   "source": [
    "#concatenation\n",
    "g=np.array([[3,5],[2,4]])\n",
    "print(g)\n",
    "h=np.array([[9,8]])\n",
    "i=np.concatenate((g,h.T),axis=1)\n",
    "print(i)"
   ]
  },
  {
   "cell_type": "code",
   "execution_count": 27,
   "metadata": {},
   "outputs": [
    {
     "name": "stdout",
     "output_type": "stream",
     "text": [
      "[9 9 0 3 4 5 3 7 1 4]\n",
      "[[9 9 0 3 4]\n",
      " [5 3 7 1 4]]\n",
      "[[ 7  6 13]\n",
      " [ 5  5 13]\n",
      " [ 7  7 10]\n",
      " [ 7  6 15]]\n"
     ]
    }
   ],
   "source": [
    "#hstack #vstack #broadcasting\n",
    "j=np.array([9,9,0,3,4])\n",
    "k=np.array([5,3,7,1,4])\n",
    "print(np.hstack([j,k]))\n",
    "print(np.vstack([j,k]))\n",
    "l=np.array([[3,4,5],[1,3,5],[3,5,2],[3,4,7]])\n",
    "m=np.array([4,2,8])\n",
    "n=l+m\n",
    "print(n)"
   ]
  },
  {
   "cell_type": "code",
   "execution_count": 29,
   "metadata": {},
   "outputs": [
    {
     "name": "stdout",
     "output_type": "stream",
     "text": [
      "[[3 5 4 6 7 8]\n",
      " [2 4 4 5 5 6]]\n",
      "[ 5  9  8 11 12 14]\n",
      "[33 26]\n"
     ]
    }
   ],
   "source": [
    "#functionsandaxis\n",
    "o=np.array([[3,5,4,6,7,8],[2,4,4,5,5,6]])\n",
    "print(o)\n",
    "print(o.sum(axis=0))\n",
    "print(o.sum(axis=1))"
   ]
  },
  {
   "cell_type": "code",
   "execution_count": 33,
   "metadata": {},
   "outputs": [
    {
     "name": "stdout",
     "output_type": "stream",
     "text": [
      "[4 5 0]\n",
      "int64\n"
     ]
    }
   ],
   "source": [
    "#datatypes\n",
    "p=np.array([4,5,0.3],dtype=np.int64)\n",
    "print(p)\n",
    "print(p.dtype)"
   ]
  },
  {
   "cell_type": "code",
   "execution_count": 37,
   "metadata": {},
   "outputs": [
    {
     "name": "stdout",
     "output_type": "stream",
     "text": [
      "[9 5 6]\n",
      "[4 5 6]\n"
     ]
    }
   ],
   "source": [
    "#copying\n",
    "q=np.array([4,5,6])\n",
    "r=q.copy()\n",
    "r[0]=9\n",
    "print(r)\n",
    "print(q)"
   ]
  },
  {
   "cell_type": "code",
   "execution_count": 39,
   "metadata": {},
   "outputs": [
    {
     "name": "stdout",
     "output_type": "stream",
     "text": [
      "[[0.21721079 0.22432134]\n",
      " [0.26375682 0.68685688]\n",
      " [0.96846974 0.5019209 ]]\n"
     ]
    }
   ],
   "source": [
    "#randomnumbers\n",
    "s=np.random.random((3,2))\n",
    "print(s)"
   ]
  },
  {
   "cell_type": "code",
   "execution_count": null,
   "metadata": {},
   "outputs": [],
   "source": []
  }
 ],
 "metadata": {
  "kernelspec": {
   "display_name": "Python 3",
   "language": "python",
   "name": "python3"
  },
  "language_info": {
   "codemirror_mode": {
    "name": "ipython",
    "version": 3
   },
   "file_extension": ".py",
   "mimetype": "text/x-python",
   "name": "python",
   "nbconvert_exporter": "python",
   "pygments_lexer": "ipython3",
   "version": "3.8.3"
  }
 },
 "nbformat": 4,
 "nbformat_minor": 4
}
